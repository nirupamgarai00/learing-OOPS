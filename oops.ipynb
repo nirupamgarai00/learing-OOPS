{
 "cells": [
  {
   "cell_type": "code",
   "execution_count": null,
   "id": "b2d9fc63",
   "metadata": {},
   "outputs": [],
   "source": [
    "class Student:\n",
    "    \n",
    "    collage_name = \"SRNMGP\"# this is attribute called class attribute    \n",
    "    \n",
    "    # peramitrizied constroctor\n",
    "    def __init__(self,name , marks):\n",
    "        \n",
    "        self.name = name # this attribute with \"self.\" is called the Odject attribute\n",
    "        self.marks = marks\n",
    "        \n",
    "    def hello(self): # this is a method in class\n",
    "        print(\"hello\",self.name)\n",
    "        \n",
    "    @staticmethod # this is used to create a static method which is brings the odject level method to class level method\n",
    "    def m(): # this is  class level method\n",
    "        print('M')"
   ]
  },
  {
   "cell_type": "code",
   "execution_count": null,
   "id": "952b29de",
   "metadata": {},
   "outputs": [
    {
     "name": "stdout",
     "output_type": "stream",
     "text": [
      "hello devil\n"
     ]
    }
   ],
   "source": [
    "\n",
    "s2 = Student(\"God\",100)\n",
    "s1 = Student(\"devil\", 99)\n",
    "\n",
    "s1.hello()# this is how you will execute any method\n"
   ]
  },
  {
   "cell_type": "code",
   "execution_count": 5,
   "id": "6c280cc8",
   "metadata": {},
   "outputs": [
    {
     "name": "stdout",
     "output_type": "stream",
     "text": [
      "SRNMGP\n",
      "SRNMGP\n"
     ]
    }
   ],
   "source": [
    "s2.name\n",
    "print(s2.collage_name)\n",
    "print(s1.collage_name)"
   ]
  },
  {
   "cell_type": "code",
   "execution_count": 8,
   "id": "a0dbce17",
   "metadata": {},
   "outputs": [
    {
     "name": "stdout",
     "output_type": "stream",
     "text": [
      "avg =  80.0\n"
     ]
    }
   ],
   "source": [
    "# basic problem\n",
    "# create class Student and take they are name and \n",
    "# marks of 3 subjects and print the avarage\n",
    "class Student1:\n",
    "    \n",
    "    def __init__(self, name , sub1, sub2 , sub3):\n",
    "        self.name = name\n",
    "        self.sub1 = sub1\n",
    "        self.sub2 = sub2\n",
    "        self.sub3 = sub3\n",
    "    def print_avg(self):\n",
    "        print(\"avg = \",(self.sub1+self.sub2+self.sub3)/3)\n",
    "        \n",
    "s1= Student1(\"niru\",80,90,70)\n",
    "s1.print_avg()"
   ]
  },
  {
   "cell_type": "code",
   "execution_count": null,
   "id": "042c51cc",
   "metadata": {},
   "outputs": [
    {
     "name": "stdout",
     "output_type": "stream",
     "text": [
      "Car started\n"
     ]
    }
   ],
   "source": [
    "# lets learn about abstraction\n",
    "\n",
    "# this how abstraction is impilemented only essencial thing are to be shown\n",
    "# Note this also here also impliementation of the Encapsulation and this is the procces of \n",
    "# creating a class and and of its objects\n",
    "\n",
    "class Car:\n",
    "    def __init__(self):\n",
    "        self.acc = False\n",
    "        self.brk = False\n",
    "        self.cluch = False\n",
    "        \n",
    "    def start(self):\n",
    "        self.cluch = True\n",
    "        self.acc = True\n",
    "        print('Car started')\n",
    "        \n",
    "\n",
    "c = Car()\n",
    "c.start()\n",
    "        \n",
    "   "
   ]
  },
  {
   "cell_type": "code",
   "execution_count": null,
   "id": "ee504ca1",
   "metadata": {},
   "outputs": [],
   "source": [
    "# basic practic quation \n",
    "# creat a class named account and there will two attribute , balance and account No.\n",
    "# then create methods of debit , creadit and also printing the balance\n",
    "class Account:\n",
    "    \n",
    "    def __init__(self,acc, bal):\n",
    "        \n",
    "        self.acc = acc# storing the account number\n",
    "        # to mange balance if Not given\n",
    "        if bal == None:\n",
    "            self.bal = 0\n",
    "        else:\n",
    "            self.bal = bal\n",
    "            \n",
    "    # credit method\n",
    "    def creadit(self,money):\n",
    "        self.bal += money \n",
    "        print(money,\"is being succesfully credited to your account\")\n",
    "        print(\"total balancce : \",self.check_bal())# printing the final balance\n",
    "        \n",
    "    # debit method\n",
    "    def debit(self,amount):\n",
    "        self.bal -= amount\n",
    "        print(amount,\"is debited succesfully from your account\")\n",
    "        \n",
    "        print(\"total balancce : \",self.check_bal())# printing the final balance\n",
    "    \n",
    "    \n",
    "    # print balance method\n",
    "    def check_bal(self):\n",
    "        print(\"account balance : \",self.bal)\n",
    "    \n",
    "    \n",
    "\n",
    "\n",
    "\n",
    "        \n",
    "    \n"
   ]
  },
  {
   "cell_type": "code",
   "execution_count": 3,
   "id": "a748f25f",
   "metadata": {},
   "outputs": [
    {
     "name": "stdout",
     "output_type": "stream",
     "text": [
      "2000 is debited succesfully from your account\n",
      "5000 is being succesfully credited to your account\n",
      "account balance :  13000\n"
     ]
    }
   ],
   "source": [
    "a1 = Account(\"1234\",10000)\n",
    "a1.debit(2000)\n",
    "a1.creadit(5000)\n",
    "a1.check_bal()"
   ]
  },
  {
   "cell_type": "code",
   "execution_count": 3,
   "id": "cf798b0f",
   "metadata": {},
   "outputs": [],
   "source": [
    "class Student:\n",
    "    \n",
    "    collage_name = \"SRNMGP\"# this is attribute called class attribute    \n",
    "    \n",
    "    # peramitrizied constroctor\n",
    "    def __init__(self,name , marks):\n",
    "        \n",
    "        self.name = name # this attribute with \"self.\" is called the Odject attribute\n",
    "        self.marks = marks\n",
    "        \n",
    "    def hello(self): # this is a method in class\n",
    "        print(\"hello\",self.name)\n",
    "        \n",
    "    @staticmethod # this is used to create a static method which is brings the odject level method to class level method\n",
    "    def m(): # this is  class level method\n",
    "        print('M')\n",
    "        \n",
    "        \n",
    "        \n",
    "\n"
   ]
  },
  {
   "cell_type": "code",
   "execution_count": 5,
   "id": "a8b5ef85",
   "metadata": {},
   "outputs": [],
   "source": [
    "# lets learn about del keyword\n",
    "s1 = Student(\"NB\",99)\n",
    "del s1.name # this will delelt the properti of name\n",
    "#print(s1.collage_name) this line will hit a error\n",
    "del s1 # this will delet the whole odject"
   ]
  },
  {
   "cell_type": "code",
   "execution_count": null,
   "id": "5e4edf27",
   "metadata": {},
   "outputs": [],
   "source": [
    "# private and public variables\n",
    "class Acount:\n",
    "    def __init__(self,acc_num,acc_pas,bank_name):\n",
    "        self.__acc = acc_num # this is a private variable and this attribute cannot be accesed by any object\n",
    "        self.__pas = acc_pas\n",
    "        self.bank = bank_name # this is a public variable which is accesed by every object"
   ]
  },
  {
   "cell_type": "code",
   "execution_count": null,
   "id": "2938af1a",
   "metadata": {},
   "outputs": [],
   "source": [
    "# inheritance(this is where one takes the properties and method of a other class)\n",
    "class animal:# perent class or base class\n",
    "    p1 = \"can bridh\"\n",
    "    \n",
    "    def __init__(self,lags):\n",
    "        self.lags = lags\n",
    "    \n",
    "class Cat(animal):# child class or derived class\n",
    "    p2 = \"can walk\"\n",
    "    \n",
    "    def __init__(self,sound,lags):\n",
    "        self.sound = sound\n",
    "        super().__init__(lags) # this is a super function which is used accessed attribute and methods of the perent class"
   ]
  },
  {
   "cell_type": "markdown",
   "id": "02855266",
   "metadata": {},
   "source": []
  },
  {
   "cell_type": "code",
   "execution_count": 3,
   "id": "ec96c810",
   "metadata": {},
   "outputs": [
    {
     "name": "stdout",
     "output_type": "stream",
     "text": [
      "98.0\n"
     ]
    }
   ],
   "source": [
    "\n",
    "class Student:\n",
    "    name = 'None'\n",
    "    # @classmethod is a decorator which allows changes to class attributes by instance\n",
    "    @classmethod\n",
    "    def change_name(cls,name):\n",
    "        cls.name = name\n",
    "    \n",
    "    # this is one of the way to change class attribute by normal instance method    \n",
    "    def name_ch(self,name):\n",
    "        Student.name = name\n",
    "        \n",
    "    def __init__(self,s1,s2,s3):\n",
    "        self.s1 = s1\n",
    "        self.s2 = s2\n",
    "        self.s3 = s3\n",
    "    \n",
    "    @property # this also a decrator which is converts methods into attribute\n",
    "    def persentage(self):\n",
    "        return (self.s1+self.s2+self.s3)/3\n",
    "        \n",
    "s1 = Student(97,98,99)\n",
    "print(s1.persentage)\n",
    "\n",
    "\n",
    "        "
   ]
  },
  {
   "cell_type": "code",
   "execution_count": null,
   "id": "ab42acf7",
   "metadata": {},
   "outputs": [],
   "source": [
    " # oparetor overloading\n",
    " \n",
    "#  FREQUENTLY USED DUNDER METHODS (SPECIAL METHODS) IN PYTHON\n",
    "# Dunder stands for \"Double Underscore.\" These methods allow Python classes\n",
    "# to implement and override behavior hooked into by built-in operations (e.g., +, len(), ==).\n",
    "# ----------------------------------------------------------------------\n",
    "\n",
    "# --- 1. Initialization and Destruction ---\n",
    "\n",
    "# __init__ (self, ...)\n",
    "# Use: The constructor method. Called after the instance is created (by __new__)\n",
    "#      to initialize the object's attributes.\n",
    "\n",
    "# __new__ (cls, ...)\n",
    "# Use: Called to create a new instance of the class (before __init__).\n",
    "#      Primarily used for custom object creation, like singletons or immutable objects.\n",
    "\n",
    "# __del__ (self)\n",
    "# Use: The destructor method. Called when an object is about to be garbage-collected\n",
    "#      (reference count drops to zero). Used for cleanup (e.g., closing file handles).\n",
    "\n",
    "\n",
    "# --- 2. String Representation ---\n",
    "\n",
    "# __repr__ (self)\n",
    "# Use: Official string representation, primarily for debugging and developers.\n",
    "#      Output should be unambiguous (e.g., 'ClassName(attr=value)').\n",
    "\n",
    "# __str__ (self)\n",
    "# Use: Informal, user-friendly string representation, typically for end-users.\n",
    "#      Invoked by print() and str().\n",
    "\n",
    "\n",
    "# --- 3. Comparison / Ordering ---\n",
    "\n",
    "# __eq__ (self, other)\n",
    "# Use: Equality check (a == b).\n",
    "\n",
    "# __lt__ (self, other)\n",
    "# Use: Less than (a < b).\n",
    "\n",
    "# __le__ (self, other)\n",
    "# Use: Less than or equal to (a <= b).\n",
    "\n",
    "# __gt__ (self, other)\n",
    "# Use: Greater than (a > b).\n",
    "\n",
    "# __ge__ (self, other)\n",
    "# Use: Greater than or equal to (a >= b).\n",
    "\n",
    "\n",
    "# --- 4. Numeric and Arithmetic Operations ---\n",
    "\n",
    "# __add__ (self, other)\n",
    "# Use: Addition (a + b).\n",
    "\n",
    "# __sub__ (self, other)\n",
    "# Use: Subtraction (a - b).\n",
    "\n",
    "# __mul__ (self, other)\n",
    "# Use: Multiplication (a * b).\n",
    "\n",
    "# __truediv__ (self, other)\n",
    "# Use: Division (a / b).\n",
    "\n",
    "# __len__ (self)\n",
    "# Use: Returns the length of the object (invoked by len()).\n",
    "\n",
    "\n",
    "# --- 5. Container and Collection Emulation ---\n",
    "\n",
    "# __getitem__ (self, key)\n",
    "# Use: Retrieves an item by key or index (my_object[key]).\n",
    "\n",
    "# __setitem__ (self, key, value)\n",
    "# Use: Sets an item by key or index (my_object[key] = value).\n",
    "\n",
    "# __delitem__ (self, key)\n",
    "# Use: Deletes an item by key or index (del my_object[key]).\n",
    "\n",
    "# __contains__ (self, item)\n",
    "# Use: Defines behavior for the membership operator (item in my_object).\n",
    "\n",
    "# __iter__ (self)\n",
    "# Use: Returns an iterator, allowing the object to be used in a 'for' loop.\n",
    "\n",
    "\n",
    "# --- 6. Attribute Access ---\n",
    "\n",
    "# __call__ (self, *args, **kwargs)\n",
    "# Use: Makes an instance of the class callable like a function (my_object()).\n",
    "\n",
    "# __getattr__ (self, name)\n",
    "# Use: Called ONLY when an attribute is requested that does not exist on the object.\n",
    "\n",
    "# __setattr__ (self, name, value)\n",
    "# Use: Called whenever an attribute is set, regardless of whether it already exists.\n",
    "\n",
    "# __getattribute__ (self, name)\n",
    "# Use: Called EVERY TIME an attribute is accessed (must be used carefully to avoid infinite recursion).\n"
   ]
  },
  {
   "cell_type": "code",
   "execution_count": 11,
   "id": "e7b400b6",
   "metadata": {},
   "outputs": [],
   "source": [
    "# oparator overloading\n",
    "class Complex:\n",
    "    def __init__(self,real,img):\n",
    "        self.real = real\n",
    "        self.img = img\n",
    "    \n",
    "    def __str__(self):# this called when print() function is called\n",
    "        return f\"{self.real}i + {self.img}j\"\n",
    "    \n",
    "    def __add__(self,obj):# this funtiuon called when obj1 + obj2 is used\n",
    "        newR = self.real + obj.real\n",
    "        newI = self.img+obj.img\n",
    "        return Complex(newR,newI)\n",
    "    \n",
    "    \n",
    "        "
   ]
  },
  {
   "cell_type": "code",
   "execution_count": 12,
   "id": "be59a897",
   "metadata": {},
   "outputs": [
    {
     "name": "stdout",
     "output_type": "stream",
     "text": [
      "4i + 6j\n"
     ]
    }
   ],
   "source": [
    "n1 = Complex(1,2)\n",
    "n2= Complex(3,4)\n",
    "\n",
    "print(n1+n2)"
   ]
  },
  {
   "cell_type": "code",
   "execution_count": 13,
   "id": "df30c5d6",
   "metadata": {},
   "outputs": [],
   "source": [
    "# simple parctic question\n",
    "# Q1) define a circle class\n",
    "# define an area() method and perimeter() methid\n",
    "class Circle:\n",
    "    def __init__(self,r):# constractor with attribute as a radius\n",
    "        self.r = r\n",
    "    \n",
    "    # method to calculate area\n",
    "    def area(self):\n",
    "        return 3.14*self.r*self.r\n",
    "    \n",
    "    #method to claculate permeter\n",
    "    def perimeter(self):\n",
    "        return 2*3.14*self.r\n",
    "    \n",
    "\n",
    "# Q2 define employee class with attribute role, deparyment & salary\n",
    "# also have showDetails method\n",
    "\n",
    "class Empolyee:\n",
    "    \n",
    "    def __init__(self,role,dept,salary):\n",
    "        self.role = role\n",
    "        self.dept = dept\n",
    "        self.sal = salary\n",
    "    \n",
    "    def showdetails(self):\n",
    "        print(\"Role : \",self.role)\n",
    "        print(\"Deparment : \", self.dept)\n",
    "        print(\"Salary :\",self.sal)\n",
    "    \n",
    "    \n",
    "# Q3) create Engineer class that inherits properties of empolyee & also have attribute of name & age\n",
    "\n",
    "class Engineer(Empolyee):\n",
    "    \n",
    "    def __init__(self,name , age, role, dept, salary):\n",
    "        self.name = name\n",
    "        self.age = age\n",
    "        super().__init__(role, dept, salary)# calling the pernet class constrator\n",
    "        \n",
    "    def showdetails(self):\n",
    "        print(\"Name : \",self.name)\n",
    "        print(\"Age : \",self.age)\n",
    "        super().showdetails()# calling the the parent class showdetails method\n",
    "    \n",
    "    \n",
    "    \n",
    "    "
   ]
  },
  {
   "cell_type": "code",
   "execution_count": 14,
   "id": "10499f46",
   "metadata": {},
   "outputs": [
    {
     "name": "stdout",
     "output_type": "stream",
     "text": [
      "314.0\n",
      "62.800000000000004\n",
      "Name :  Nirupam\n",
      "Age :  19\n",
      "Role :  Senior Dev\n",
      "Deparment :  Maintainence team\n",
      "Salary : 100000\n"
     ]
    }
   ],
   "source": [
    "c = Circle(10)\n",
    "print(c.area())\n",
    "print(c.perimeter())\n",
    "\n",
    "e1 = Engineer(\"Nirupam\",19,\"Senior Dev\",\"Maintainence team\",100000)\n",
    "e1.showdetails()"
   ]
  },
  {
   "cell_type": "code",
   "execution_count": null,
   "id": "ed6bc660",
   "metadata": {},
   "outputs": [
    {
     "name": "stdout",
     "output_type": "stream",
     "text": [
      "False\n"
     ]
    }
   ],
   "source": [
    "# Q) create class order which stores the item & its price\n",
    "#     use __gt__() to convey that :\n",
    "#       order1>order2 if price of order1 > price of order2\n",
    "\n",
    "class Order:\n",
    "    \n",
    "    def __init__(self,item , price):\n",
    "        self.item = item\n",
    "        self.price = price\n",
    "        \n",
    "    def __gt__(self,obj):# its dunder function calls when obj1>obj2 is used in the object\n",
    "        \n",
    "        return self.price>obj.price\n",
    "    \n",
    "    \n",
    "    \n",
    "order1 = Order(\"apple\",20)\n",
    "order2 = Order(\"banana\",10)\n",
    "\n",
    "print(order2>order1)\n",
    "    \n",
    "    \n",
    "\n",
    "    "
   ]
  },
  {
   "cell_type": "code",
   "execution_count": null,
   "id": "bdc2b3bf",
   "metadata": {},
   "outputs": [],
   "source": []
  }
 ],
 "metadata": {
  "kernelspec": {
   "display_name": "Python 3",
   "language": "python",
   "name": "python3"
  },
  "language_info": {
   "codemirror_mode": {
    "name": "ipython",
    "version": 3
   },
   "file_extension": ".py",
   "mimetype": "text/x-python",
   "name": "python",
   "nbconvert_exporter": "python",
   "pygments_lexer": "ipython3",
   "version": "3.11.9"
  }
 },
 "nbformat": 4,
 "nbformat_minor": 5
}
